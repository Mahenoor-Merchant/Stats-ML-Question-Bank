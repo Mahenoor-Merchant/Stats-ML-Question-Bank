{
 "cells": [
  {
   "cell_type": "markdown",
   "id": "e5b1bcc5-7ff7-4644-8d24-0132cf6aca5e",
   "metadata": {},
   "source": [
    "# Statistics PPT Program"
   ]
  },
  {
   "cell_type": "markdown",
   "id": "ab69f8c7-a5f1-45c4-a6b0-14c8d50d52b6",
   "metadata": {},
   "source": [
    "### 1. Scenario: A company wants to analyze the sales performance of its products in different regions. They have collected the following data:\n",
    "\n",
    "*  Region A: [10, 15, 12, 8, 14]\n",
    "* Region B: [18, 20, 16, 22, 25]\n",
    "   \n",
    "   \n",
    "Calculate the mean sales for each region.\n"
   ]
  },
  {
   "cell_type": "code",
   "execution_count": 1,
   "id": "71a6b14a-79ae-4613-8e08-568b182c3dcd",
   "metadata": {},
   "outputs": [
    {
     "name": "stdout",
     "output_type": "stream",
     "text": [
      "The mean for region A is : 11.8\n",
      "The mean for region B is : 20.2\n"
     ]
    }
   ],
   "source": [
    "A=[10,15,12,8,14]\n",
    "B=[18,20,16,22,25]\n",
    "import numpy as np\n",
    "print('The mean for region A is :' , np.mean(A))\n",
    "print('The mean for region B is :' , np.mean(B))"
   ]
  },
  {
   "cell_type": "markdown",
   "id": "50a3e719-1548-4d09-9227-fa19382e9063",
   "metadata": {},
   "source": [
    "### 2. Scenario: A survey is conducted to measure customer satisfaction on a scale of 1 to 5. The data collected is as follows:\n",
    "\n",
    "   [4, 5, 2, 3, 5, 4, 3, 2, 4, 5]\n",
    "   \n",
    "Calculate the mode of the survey responses.\n"
   ]
  },
  {
   "cell_type": "code",
   "execution_count": 2,
   "id": "7d89d65a-6684-4211-9678-b2b8cd820617",
   "metadata": {},
   "outputs": [
    {
     "data": {
      "text/plain": [
       "4"
      ]
     },
     "execution_count": 2,
     "metadata": {},
     "output_type": "execute_result"
    }
   ],
   "source": [
    "import statistics\n",
    "data=[4,5,2,3,5,4,3,2,4,5]\n",
    "statistics.mode(data)"
   ]
  },
  {
   "cell_type": "markdown",
   "id": "9c349507-d446-43d2-8ede-efe833b836df",
   "metadata": {},
   "source": [
    "### 3. Scenario: A company wants to compare the salaries of two departments. The salary data for Department A and Department B are as follows:\n",
    "* Department A: [5000, 6000, 5500, 7000]\n",
    "* Department B: [4500, 5500, 5800, 6000, 5200]\n",
    "\n",
    "   Calculate the median salary for each department.\n"
   ]
  },
  {
   "cell_type": "code",
   "execution_count": 3,
   "id": "f44408a3-b750-4336-bf7b-9576587c2ae3",
   "metadata": {},
   "outputs": [],
   "source": [
    "Department_A = [5000, 6000, 5500, 7000]\n",
    "Department_B = [4500, 5500, 5800, 6000, 5200]"
   ]
  },
  {
   "cell_type": "code",
   "execution_count": 4,
   "id": "4346ffe8-6d4d-435b-a45f-8013d696b7b9",
   "metadata": {},
   "outputs": [
    {
     "name": "stdout",
     "output_type": "stream",
     "text": [
      "The median for Department A is :  5750.0\n",
      "The median for Department B is :  5500.0\n"
     ]
    }
   ],
   "source": [
    "import numpy as np\n",
    "print('The median for Department A is : ' , np.median(Department_A))\n",
    "print('The median for Department B is : ' , np.median(Department_B))"
   ]
  },
  {
   "cell_type": "markdown",
   "id": "f0fb8b94-7a76-422e-96c6-035e5c679c51",
   "metadata": {},
   "source": [
    "### 4. Scenario: A data analyst wants to determine the variability in the daily stock prices of a company. The data collected is as follows:\n",
    "\n",
    "   [25.5, 24.8, 26.1, 25.3, 24.9]\n",
    "   \n",
    "   Calculate the range of the stock prices.\n"
   ]
  },
  {
   "cell_type": "code",
   "execution_count": 5,
   "id": "c98f0817-f318-4ceb-a614-f181aefb85f8",
   "metadata": {},
   "outputs": [],
   "source": [
    "stock_prices=[25.5, 24.8, 26.1, 25.3, 24.9]"
   ]
  },
  {
   "cell_type": "code",
   "execution_count": 6,
   "id": "f93f16d1-48fb-4b61-a493-74de4b321599",
   "metadata": {},
   "outputs": [
    {
     "name": "stdout",
     "output_type": "stream",
     "text": [
      "The range of stock prices ranges between :  (24.8, 26.1)\n"
     ]
    }
   ],
   "source": [
    "range_of_stock_prices=min(stock_prices),max(stock_prices)\n",
    "print('The range of stock prices ranges between : ' , range_of_stock_prices )"
   ]
  },
  {
   "cell_type": "markdown",
   "id": "ec64ced5-b518-4fb4-ad1f-44b0af7a1846",
   "metadata": {},
   "source": [
    "### 5. Scenario: A study is conducted to compare the performance of two different teaching methods. The test scores of the students in each group are as follows:\n",
    "* Group A: [85, 90, 92, 88, 91]\n",
    "* Group B: [82, 88, 90, 86, 87]\n",
    "   \n",
    "Perform a t-test to determine if there is a significant difference in the mean scores between the two groups.\n"
   ]
  },
  {
   "cell_type": "code",
   "execution_count": 7,
   "id": "02cacb7c-2b6a-4fd4-9a16-9b59d966b65b",
   "metadata": {},
   "outputs": [],
   "source": [
    "Group_A =  [85, 90, 92, 88, 91]\n",
    "Group_B =  [82, 88, 90, 86, 87]"
   ]
  },
  {
   "cell_type": "markdown",
   "id": "332fdd55-cc86-4470-ba98-22c57ee73202",
   "metadata": {},
   "source": [
    "Null Hypothesis : There is no significant difference in the mean scores between the two groups.\n",
    "Alternate Hypothesis :There is a significant difference in the mean scores between the two groups."
   ]
  },
  {
   "cell_type": "markdown",
   "id": "dd20e0ba-aa5d-418f-b4cf-54afddc516e3",
   "metadata": {},
   "source": [
    "Significance Level: Assuming to be 0.05"
   ]
  },
  {
   "attachments": {
    "1dd88f9a-fce7-46bf-916e-cf319802fed5.png": {
     "image/png": "[encoded data removed]"
    }
   },
   "cell_type": "markdown",
   "id": "7c79d69b-ad0c-4ab5-a18b-b3dc0ba1eb7b",
   "metadata": {},
   "source": [
    "![image.png](attachment:1dd88f9a-fce7-46bf-916e-cf319802fed5.png)"
   ]
  },
  {
   "cell_type": "code",
   "execution_count": 8,
   "id": "792b7bac-5d4f-4f66-9abc-4241da41d297",
   "metadata": {},
   "outputs": [],
   "source": [
    "import numpy as np\n",
    "sigma = 0.05\n",
    "X1_mean=np.mean(Group_A)\n",
    "X2_mean=np.mean(Group_B)\n",
    "n1=len(Group_A)\n",
    "n2=len(Group_B)"
   ]
  },
  {
   "cell_type": "markdown",
   "id": "6b8035cc-1399-42d9-8ebf-44ca447e07ae",
   "metadata": {},
   "source": [
    "The formula for sample variance is : **s² = Σ((X - X̄)²) / (n - 1)**"
   ]
  },
  {
   "cell_type": "code",
   "execution_count": 9,
   "id": "6f718995-5576-44d2-8891-5d4c1a187fab",
   "metadata": {},
   "outputs": [],
   "source": [
    "summation1=0\n",
    "for i in Group_A:\n",
    "    summation1+=(i-X1_mean)**2\n",
    "S1=summation1  // n1-1\n",
    "\n",
    "summation2=0\n",
    "for j in Group_B:\n",
    "    summation2+=(j-X2_mean)**2\n",
    "S2=summation2  // n2-1"
   ]
  },
  {
   "cell_type": "code",
   "execution_count": 10,
   "id": "5955dadf-8bdb-4c16-a668-cdd0578086b8",
   "metadata": {},
   "outputs": [
    {
     "name": "stdout",
     "output_type": "stream",
     "text": [
      "The degree of freedom for Group A is :  4\n",
      "The degree of freedom for Group B is :  4\n"
     ]
    }
   ],
   "source": [
    "df1=n1-1\n",
    "df2=n2-1\n",
    "print('The degree of freedom for Group A is : ' ,df1 )\n",
    "print('The degree of freedom for Group B is : ' ,df2 )"
   ]
  },
  {
   "cell_type": "code",
   "execution_count": 11,
   "id": "35d0cda3-b216-41fe-bb28-10e6f0680023",
   "metadata": {},
   "outputs": [],
   "source": [
    "from math import sqrt\n",
    "T=(X1_mean-X2_mean) / sqrt((S1/n1)+(S2/n2))"
   ]
  },
  {
   "cell_type": "code",
   "execution_count": 12,
   "id": "d0295328-2101-45b3-a341-f9d6efc1a61a",
   "metadata": {},
   "outputs": [
    {
     "data": {
      "text/plain": [
       "1.752919642404435"
      ]
     },
     "execution_count": 12,
     "metadata": {},
     "output_type": "execute_result"
    }
   ],
   "source": [
    "T"
   ]
  },
  {
   "cell_type": "code",
   "execution_count": 13,
   "id": "1f6a078e-49a8-40b2-ac6a-682322935bb5",
   "metadata": {},
   "outputs": [
    {
     "name": "stdout",
     "output_type": "stream",
     "text": [
      "2.7764451051977987\n"
     ]
    }
   ],
   "source": [
    "from scipy.stats import t\n",
    "\n",
    "significance_level = 0.05\n",
    "df = 4\n",
    "\n",
    "t_value = t.ppf(1 - significance_level/2, df)\n",
    "print(t_value)\n"
   ]
  },
  {
   "cell_type": "code",
   "execution_count": 14,
   "id": "adfd1d70-99f2-405b-a750-dda2a818a240",
   "metadata": {},
   "outputs": [
    {
     "name": "stdout",
     "output_type": "stream",
     "text": [
      "We fail to reject the null hypothesis. Hence there is no significant difference between the 2 means.\n"
     ]
    }
   ],
   "source": [
    "if T < -2.7764451051977987:\n",
    "    print('We reject the null hypothesis. Hence, there is a significant difference between the 2 means.')\n",
    "elif T > 2.7764451051977987:\n",
    "    print('We reject the null hypothesis. Hence, there is a significant difference between the 2 means.')\n",
    "else:\n",
    "    print('We fail to reject the null hypothesis. Hence there is no significant difference between the 2 means.')"
   ]
  },
  {
   "cell_type": "markdown",
   "id": "50a9a368-b540-4ede-b150-a6de3c02dc2e",
   "metadata": {},
   "source": [
    "### 6. Scenario: A company wants to analyze the relationship between advertising expenditure and sales. The data collected is as follows:\n",
    "  * Advertising Expenditure (in thousands): [10, 15, 12, 8, 14]\n",
    "  * Sales (in thousands): [25, 30, 28, 20, 26]\n",
    "  \n",
    "  Calculate the correlation coefficient between advertising expenditure and sales.\n"
   ]
  },
  {
   "cell_type": "code",
   "execution_count": 15,
   "id": "db1704f4-ea2a-42f1-847a-7fc28bff1ccf",
   "metadata": {},
   "outputs": [],
   "source": [
    "ad=[10000,15000,12000,8000,14000]\n",
    "sales=[25,30,28,20,26]"
   ]
  },
  {
   "cell_type": "code",
   "execution_count": 16,
   "id": "407af054-d3eb-436e-9e3e-0f2ac09c09a7",
   "metadata": {},
   "outputs": [],
   "source": [
    "import pandas as pd\n",
    "df=pd.DataFrame({'Advertisement':ad,'Sales' : sales})"
   ]
  },
  {
   "cell_type": "code",
   "execution_count": 17,
   "id": "5b91b319-feb6-40e7-866c-4f3b2355667b",
   "metadata": {},
   "outputs": [
    {
     "data": {
      "text/html": [
       "<div>\n",
       "<style scoped>\n",
       "    .dataframe tbody tr th:only-of-type {\n",
       "        vertical-align: middle;\n",
       "    }\n",
       "\n",
       "    .dataframe tbody tr th {\n",
       "        vertical-align: top;\n",
       "    }\n",
       "\n",
       "    .dataframe thead th {\n",
       "        text-align: right;\n",
       "    }\n",
       "</style>\n",
       "<table border=\"1\" class=\"dataframe\">\n",
       "  <thead>\n",
       "    <tr style=\"text-align: right;\">\n",
       "      <th></th>\n",
       "      <th>Advertisement</th>\n",
       "      <th>Sales</th>\n",
       "    </tr>\n",
       "  </thead>\n",
       "  <tbody>\n",
       "    <tr>\n",
       "      <th>Advertisement</th>\n",
       "      <td>1.000000</td>\n",
       "      <td>0.875751</td>\n",
       "    </tr>\n",
       "    <tr>\n",
       "      <th>Sales</th>\n",
       "      <td>0.875751</td>\n",
       "      <td>1.000000</td>\n",
       "    </tr>\n",
       "  </tbody>\n",
       "</table>\n",
       "</div>"
      ],
      "text/plain": [
       "               Advertisement     Sales\n",
       "Advertisement       1.000000  0.875751\n",
       "Sales               0.875751  1.000000"
      ]
     },
     "execution_count": 17,
     "metadata": {},
     "output_type": "execute_result"
    }
   ],
   "source": [
    "df.corr()"
   ]
  },
  {
   "cell_type": "code",
   "execution_count": 18,
   "id": "7b4fe474-9083-45a8-8ead-1fd6cac0e198",
   "metadata": {},
   "outputs": [
    {
     "data": {
      "text/html": [
       "<div>\n",
       "<style scoped>\n",
       "    .dataframe tbody tr th:only-of-type {\n",
       "        vertical-align: middle;\n",
       "    }\n",
       "\n",
       "    .dataframe tbody tr th {\n",
       "        vertical-align: top;\n",
       "    }\n",
       "\n",
       "    .dataframe thead th {\n",
       "        text-align: right;\n",
       "    }\n",
       "</style>\n",
       "<table border=\"1\" class=\"dataframe\">\n",
       "  <thead>\n",
       "    <tr style=\"text-align: right;\">\n",
       "      <th></th>\n",
       "      <th>Advertisement</th>\n",
       "      <th>Sales</th>\n",
       "    </tr>\n",
       "  </thead>\n",
       "  <tbody>\n",
       "    <tr>\n",
       "      <th>Advertisement</th>\n",
       "      <td>1.0</td>\n",
       "      <td>0.9</td>\n",
       "    </tr>\n",
       "    <tr>\n",
       "      <th>Sales</th>\n",
       "      <td>0.9</td>\n",
       "      <td>1.0</td>\n",
       "    </tr>\n",
       "  </tbody>\n",
       "</table>\n",
       "</div>"
      ],
      "text/plain": [
       "               Advertisement  Sales\n",
       "Advertisement            1.0    0.9\n",
       "Sales                    0.9    1.0"
      ]
     },
     "execution_count": 18,
     "metadata": {},
     "output_type": "execute_result"
    }
   ],
   "source": [
    "df.corr(method='spearman')"
   ]
  },
  {
   "cell_type": "markdown",
   "id": "9f1c9f49-3b80-44d8-81fc-85d9489f123c",
   "metadata": {},
   "source": [
    "As we can notice that there is a highly positive correlation vetween advertisement and sales. The first mehod used was pearson correlation method and the secong one is spearman rank correlation."
   ]
  },
  {
   "cell_type": "markdown",
   "id": "c76b33ae-ec84-48c3-a35b-116c9e2efb57",
   "metadata": {},
   "source": [
    "### 7. Scenario: A survey is conducted to measure the heights of a group of people. The data collected is as follows:\n",
    "\n",
    "   [160, 170, 165, 155, 175, 180, 170]\n",
    "   \n",
    "   Calculate the standard deviation of the heights.\n"
   ]
  },
  {
   "cell_type": "code",
   "execution_count": 19,
   "id": "42ac1df0-a9d0-4817-8157-58acd4210e3f",
   "metadata": {},
   "outputs": [],
   "source": [
    "heights=[160, 170, 165, 155, 175, 180, 170]"
   ]
  },
  {
   "cell_type": "code",
   "execution_count": 20,
   "id": "1113a2b6-14db-493c-8d6e-a2f330e45bba",
   "metadata": {},
   "outputs": [
    {
     "data": {
      "text/plain": [
       "7.953949089757174"
      ]
     },
     "execution_count": 20,
     "metadata": {},
     "output_type": "execute_result"
    }
   ],
   "source": [
    "import numpy as np\n",
    "np.std(heights)"
   ]
  },
  {
   "cell_type": "markdown",
   "id": "4c855887-10b1-4dcd-bd89-e2dc8b3d151c",
   "metadata": {},
   "source": [
    "The standard devation ( measure of the spread of a distribution) of heights is 7.95 which is approx 8."
   ]
  },
  {
   "cell_type": "markdown",
   "id": "327e3d1f-bf99-4ce8-a8a7-dbed0858c543",
   "metadata": {},
   "source": [
    "### 8. Scenario: A company wants to analyze the relationship between employee tenure and job satisfaction. The data collected is as follows:\n",
    "   * Employee Tenure (in years): [2, 3, 5, 4, 6, 2, 4]\n",
    "   * Job Satisfaction (on a scale of 1 to 10): [7, 8, 6, 9, 5, 7, 6]\n",
    "   \n",
    "   Perform a linear regression analysis to predict job satisfaction based on employee tenure.\n"
   ]
  },
  {
   "cell_type": "code",
   "execution_count": 21,
   "id": "cb7f9149-3027-4f46-8f04-a75b8b47fd94",
   "metadata": {},
   "outputs": [
    {
     "data": {
      "image/png": "[encoded data removed]",
      "text/plain": [
       "<Figure size 640x480 with 1 Axes>"
      ]
     },
     "metadata": {},
     "output_type": "display_data"
    }
   ],
   "source": [
    "import numpy as np\n",
    "from sklearn.model_selection import train_test_split\n",
    "from sklearn.preprocessing import StandardScaler\n",
    "from sklearn.linear_model import LinearRegression\n",
    "import seaborn as sns\n",
    "import matplotlib.pyplot as plt\n",
    "\n",
    "X = np.array([[2], [3], [5], [4], [6], [2], [4]])  # Reshape to a 2D array with a single feature\n",
    "y = np.array([7, 8, 6, 9, 5, 7, 6])\n",
    "\n",
    "X_train, X_test, y_train, y_test = train_test_split(\n",
    "    X, y, test_size=0.33, random_state=42)\n",
    "\n",
    "scaler = StandardScaler()\n",
    "X_train_scaled = scaler.fit_transform(X_train)\n",
    "X_test_scaled = scaler.transform(X_test)\n",
    "\n",
    "regressor = LinearRegression()\n",
    "regressor.fit(X_train_scaled, y_train)\n",
    "\n",
    "# Assuming you have already trained the Linear Regression model and obtained the predictions\n",
    "Y_pred_test = regressor.predict(X_test_scaled)\n",
    "\n",
    "# Create a scatter plot\n",
    "plt.scatter(X_train_scaled, y_train)\n",
    "plt.plot(X_train_scaled, regressor.predict(X_train_scaled), 'r')\n",
    "\n",
    "# Add labels and title\n",
    "plt.xlabel('Scaled X_train')\n",
    "plt.ylabel('y_train')\n",
    "plt.title('Actual vs Predicted')\n",
    "\n",
    "# Display the plot\n",
    "plt.show()\n"
   ]
  },
  {
   "cell_type": "markdown",
   "id": "cf9df88d-5479-4ee0-b650-ce8968c549aa",
   "metadata": {},
   "source": [
    "### 9. Scenario: A study is conducted to compare the effectiveness of two different medications. The recovery times of the patients in each group are as follows:\n",
    "   * Medication A: [10, 12, 14, 11, 13]\n",
    "   * Medication B: [15, 17, 16, 14, 18]\n",
    "   \n",
    "   Perform an analysis of variance (ANOVA) to determine if there is a significant difference in the mean recovery times between the two medications.\n"
   ]
  },
  {
   "cell_type": "code",
   "execution_count": 22,
   "id": "a1afb366-a8fe-4593-8188-6635c3a4e174",
   "metadata": {},
   "outputs": [],
   "source": [
    "from scipy.stats import f_oneway"
   ]
  },
  {
   "cell_type": "code",
   "execution_count": 23,
   "id": "525a7678-ffd3-4226-a692-90d3dc254fc7",
   "metadata": {},
   "outputs": [
    {
     "data": {
      "text/plain": [
       "F_onewayResult(statistic=16.0, pvalue=0.003949772803445326)"
      ]
     },
     "execution_count": 23,
     "metadata": {},
     "output_type": "execute_result"
    }
   ],
   "source": [
    "Medication_A = [10, 12, 14, 11, 13]\n",
    "Medication_B = [15, 17, 16, 14, 18]\n",
    "f_oneway(Medication_A,Medication_B)"
   ]
  },
  {
   "cell_type": "markdown",
   "id": "2fdc3fa2-149e-4a0e-bd04-5d51aff18b8b",
   "metadata": {},
   "source": [
    "Based on the analysis, there is evidence to suggest that there is a significant difference in the mean recovery times between the two medications."
   ]
  },
  {
   "cell_type": "markdown",
   "id": "ad6aa154-cae1-4981-b9bc-35f18efec1b0",
   "metadata": {},
   "source": [
    "### 10. Scenario: A company wants to analyze customer feedback ratings on a scale of 1 to 10. The data collected is as follows:\n",
    "    \n",
    "    [8, 9, 7, 6, 8, 10, 9, 8, 7, 8]\n",
    "    \n",
    "Calculate the 75th percentile of the feedback ratings.\n"
   ]
  },
  {
   "cell_type": "code",
   "execution_count": 24,
   "id": "8dd0d4db-52d1-44ca-8fec-21fb1ae1b3a5",
   "metadata": {},
   "outputs": [],
   "source": [
    "ratings=[8, 9, 7, 6, 8, 10, 9, 8, 7, 8]"
   ]
  },
  {
   "cell_type": "code",
   "execution_count": 25,
   "id": "8e5820f5-ca3c-4641-bea6-1be8f03b1371",
   "metadata": {},
   "outputs": [
    {
     "data": {
      "text/plain": [
       "8.75"
      ]
     },
     "execution_count": 25,
     "metadata": {},
     "output_type": "execute_result"
    }
   ],
   "source": [
    "import numpy as np\n",
    "np.quantile(ratings,0.75)"
   ]
  },
  {
   "cell_type": "markdown",
   "id": "014eb222-e413-45fb-8360-d64bba0e68cf",
   "metadata": {},
   "source": [
    "### 11. Scenario: A quality control department wants to test the weight consistency of a product. The weights of a sample of products are as follows:\n",
    "\n",
    "    [10.2, 9.8, 10.0, 10.5, 10.3, 10.1]\n",
    "    \n",
    "Perform a hypothesis test to determine if the mean weight differs significantly from 10 grams.\n"
   ]
  },
  {
   "cell_type": "code",
   "execution_count": 26,
   "id": "5e6fef04-d946-4ae9-9359-f292cf53b04f",
   "metadata": {},
   "outputs": [
    {
     "name": "stdout",
     "output_type": "stream",
     "text": [
      "t-statistic: 1.5126584522688367\n",
      "p-value: 0.19077595151110102\n",
      "Fail to reject null hypothesis. The mean weight does not differ significantly from 10 grams.\n"
     ]
    }
   ],
   "source": [
    "import numpy as np\n",
    "from scipy import stats\n",
    "\n",
    "weights = [10.2, 9.8, 10.0, 10.5, 10.3, 10.1]\n",
    "\n",
    "population_mean = 10  \n",
    "\n",
    "t_statistic, p_value = stats.ttest_1samp(weights, population_mean)\n",
    "\n",
    "alpha = 0.05\n",
    "\n",
    "print(\"t-statistic:\", t_statistic)\n",
    "print(\"p-value:\", p_value)\n",
    "\n",
    "if p_value < alpha:\n",
    "    print(\"Reject null hypothesis. The mean weight differs significantly from 10 grams.\")\n",
    "else:\n",
    "    print(\"Fail to reject null hypothesis. The mean weight does not differ significantly from 10 grams.\")\n"
   ]
  },
  {
   "cell_type": "markdown",
   "id": "253a72b2-2226-408d-9b17-621a180717b1",
   "metadata": {},
   "source": [
    "### 12. Scenario: A company wants to analyze the click-through rates of two different website designs. The number of clicks for each design is as follows:\n",
    "\n",
    "    Design A: [100, 120, 110, 90, 95]\n",
    "    Design B: [80, 85, 90, 95, 100]\n",
    "    \n",
    "Perform a chi-square test to determine if there is a significant difference in the click-through rates between the two designs.\n"
   ]
  },
  {
   "cell_type": "code",
   "execution_count": 27,
   "id": "4d9c8b57-7e1d-4636-8850-93b2d7bb62ee",
   "metadata": {},
   "outputs": [
    {
     "name": "stdout",
     "output_type": "stream",
     "text": [
      "Chi-square statistic: 6.110658166925432\n",
      "p-value: 0.7287940979837881\n",
      "Fail to reject null hypothesis. There is no significant difference in click-through rates between the designs.\n"
     ]
    }
   ],
   "source": [
    "import numpy as np\n",
    "from scipy import stats\n",
    "\n",
    "clicks_design_a = [100, 120, 110, 90, 95]\n",
    "clicks_design_b = [80, 85, 90, 95, 100]\n",
    "\n",
    "observed = np.array([clicks_design_a, clicks_design_b])\n",
    "\n",
    "\n",
    "expected = np.sum(observed, axis=0) / np.sum(observed) * np.sum(observed, axis=1)[:, np.newaxis]\n",
    "\n",
    "chi2_statistic, p_value = stats.chisquare(observed, expected, axis=None)\n",
    "\n",
    "alpha = 0.05  \n",
    "\n",
    "print(\"Chi-square statistic:\", chi2_statistic)\n",
    "print(\"p-value:\", p_value)\n",
    "\n",
    "if p_value < alpha:\n",
    "    print(\"Reject null hypothesis. There is a significant difference in click-through rates between the designs.\")\n",
    "else:\n",
    "    print(\"Fail to reject null hypothesis. There is no significant difference in click-through rates between the designs.\")\n"
   ]
  },
  {
   "cell_type": "markdown",
   "id": "c045bc09-28c7-4f16-92a1-d6383730c47d",
   "metadata": {},
   "source": [
    "### 13. Scenario: A survey is conducted to measure customer satisfaction with a product on a scale of 1 to 10. The data collected is as follows:\n",
    "    \n",
    "    [7, 9, 6, 8, 10, 7, 8, 9, 7, 8]\n",
    "    \n",
    "Calculate the 95% confidence interval for the population mean satisfaction score.\n"
   ]
  },
  {
   "cell_type": "code",
   "execution_count": 28,
   "id": "6e56b6ea-b3ac-4a29-a512-3ee2f7b07961",
   "metadata": {},
   "outputs": [],
   "source": [
    "data=[7, 9, 6, 8, 10, 7, 8, 9, 7, 8]"
   ]
  },
  {
   "cell_type": "code",
   "execution_count": 29,
   "id": "0f79e7da-8760-4d01-891a-956bd1ba2363",
   "metadata": {},
   "outputs": [
    {
     "data": {
      "text/plain": [
       "(7.043561120599888, 8.756438879400113)"
      ]
     },
     "execution_count": 29,
     "metadata": {},
     "output_type": "execute_result"
    }
   ],
   "source": [
    "import numpy as np\n",
    "import scipy.stats as st\n",
    "\n",
    "\n",
    "# create 95% confidence interval\n",
    "st.t.interval(confidence=0.95,\n",
    "            df=len(data)-1,\n",
    "            loc=np.mean(data),\n",
    "            scale=st.sem(data))"
   ]
  },
  {
   "cell_type": "markdown",
   "id": "9afeb3e8-201a-47db-9fd5-1598d1037aa3",
   "metadata": {},
   "source": [
    "### 14. Scenario: A company wants to analyze the effect of temperature on product performance. The data collected is as follows:\n",
    "\n",
    "* Temperature (in degrees Celsius): [20, 22, 23, 19, 21]\n",
    "* Performance (on a scale of 1 to 10): [8, 7, 9, 6, 8]\n",
    "    \n",
    "Perform a simple linear regression to predict performance based on temperature.\n"
   ]
  },
  {
   "cell_type": "code",
   "execution_count": 50,
   "id": "ba7af060-a1da-4fed-a9e3-9204a6abc9ef",
   "metadata": {},
   "outputs": [
    {
     "data": {
      "image/png": "[encoded data removed]",
      "text/plain": [
       "<Figure size 640x480 with 1 Axes>"
      ]
     },
     "metadata": {},
     "output_type": "display_data"
    }
   ],
   "source": [
    "import numpy as np\n",
    "from sklearn.model_selection import train_test_split\n",
    "from sklearn.preprocessing import StandardScaler\n",
    "from sklearn.linear_model import LinearRegression\n",
    "import seaborn as sns\n",
    "import matplotlib.pyplot as plt\n",
    "\n",
    "X = [[20], [22], [23], [19], [21]]\n",
    "y = [8, 7, 9, 6, 8]\n",
    "\n",
    "X_train, X_test, y_train, y_test = train_test_split(\n",
    "    X, y, test_size=0.33, random_state=42)\n",
    "\n",
    "scaler = StandardScaler()\n",
    "X_train_scaled = scaler.fit_transform(X_train)\n",
    "X_test_scaled = scaler.transform(X_test)\n",
    "\n",
    "regressor = LinearRegression()\n",
    "regressor.fit(X_train_scaled, y_train)\n",
    "\n",
    "# Assuming you have already trained the Linear Regression model and obtained the predictions\n",
    "Y_pred_test = regressor.predict(X_test_scaled)\n",
    "\n",
    "# Create a scatter plot\n",
    "plt.scatter(X_train_scaled, y_train)\n",
    "plt.plot(X_train_scaled, regressor.predict(X_train_scaled), 'r')\n",
    "\n",
    "# Add labels and title\n",
    "plt.xlabel('Scaled X_train')\n",
    "plt.ylabel('y_train')\n",
    "plt.title('Actual vs Predicted')\n",
    "\n",
    "# Display the plot\n",
    "plt.show()"
   ]
  },
  {
   "cell_type": "markdown",
   "id": "f52468d0-35bd-4bb0-95a4-aec1bd54bb98",
   "metadata": {},
   "source": [
    "### 15. Scenario: A study is conducted to compare the preferences of two groups of participants.  The preferences are measured on a Likert scale from 1 to 5. The data collected is as follows:\n",
    "\n",
    "   * Group A: [4, 3, 5, 2, 4]\n",
    "   * Group B: [3, 2, 4, 3, 3]\n",
    "\n",
    "Perform a Mann-Whitney U test to determine if there is a significant difference in the median preferences between the two groups.\n"
   ]
  },
  {
   "cell_type": "code",
   "execution_count": 1,
   "id": "fe40e384-3f19-4560-9cf1-78eea1840816",
   "metadata": {},
   "outputs": [],
   "source": [
    "from scipy.stats import mannwhitneyu"
   ]
  },
  {
   "cell_type": "code",
   "execution_count": 2,
   "id": "c25fd5f4-1496-416d-8aed-e8649895e0bb",
   "metadata": {},
   "outputs": [],
   "source": [
    "A = [4, 3, 5, 2, 4]\n",
    "B = [3, 2, 4, 3, 3]\n",
    "U1, p = mannwhitneyu(A, B, method=\"exact\")"
   ]
  },
  {
   "cell_type": "code",
   "execution_count": 8,
   "id": "4d738572-5a2b-4c74-a0e8-4b63b96e1640",
   "metadata": {},
   "outputs": [
    {
     "name": "stdout",
     "output_type": "stream",
     "text": [
      " U1 : 17.0    p : 0.42063492063492064\n"
     ]
    }
   ],
   "source": [
    "print(' U1 :',U1,'   p :',p)"
   ]
  },
  {
   "cell_type": "markdown",
   "id": "b5519daa-43ec-49fe-9d68-cae9f8615f30",
   "metadata": {},
   "source": [
    "In this case, with a p-value of 0.42063492063492064, which is greater than the commonly used significance level of 0.05, we fail to reject the null hypothesis. This means that there is not enough evidence to suggest a significant difference in the median preferences between the two groups based on the given data."
   ]
  },
  {
   "cell_type": "markdown",
   "id": "abeefee9-c4ab-4f74-9edd-0acd5dfb9bdc",
   "metadata": {},
   "source": [
    "### 16. Scenario: A company wants to analyze the distribution of customer ages. The data collected is as follows:\n",
    "\n",
    "    [25, 30, 35, 40, 45, 50, 55, 60, 65, 70]\n",
    "    \n",
    "Calculate the interquartile range (IQR) of the ages.\n"
   ]
  },
  {
   "cell_type": "code",
   "execution_count": 9,
   "id": "1a109ec4-4e74-40ac-9633-22e55d67a21d",
   "metadata": {},
   "outputs": [],
   "source": [
    "data=[25, 30, 35, 40, 45, 50, 55, 60, 65, 70]"
   ]
  },
  {
   "cell_type": "code",
   "execution_count": 10,
   "id": "7a4a700e-cd8c-47b4-9f74-ed4f35c93835",
   "metadata": {},
   "outputs": [],
   "source": [
    "from scipy.stats import iqr"
   ]
  },
  {
   "cell_type": "code",
   "execution_count": 11,
   "id": "c707bc27-04fb-43d7-b8c9-709b00db2401",
   "metadata": {},
   "outputs": [
    {
     "data": {
      "text/plain": [
       "22.5"
      ]
     },
     "execution_count": 11,
     "metadata": {},
     "output_type": "execute_result"
    }
   ],
   "source": [
    "iqr(data)"
   ]
  },
  {
   "cell_type": "markdown",
   "id": "0037634a-77b7-4b96-8272-36d54a7751e4",
   "metadata": {},
   "source": [
    "\n",
    "17. Scenario: A study is conducted to compare the performance of three different machine learning algorithms. The accuracy scores for each algorithm are as follows:\n",
    "   * Algorithm A: [0.85, 0.80, 0.82, 0.87, 0.83]\n",
    "   * Algorithm B: [0.78, 0.82, 0.84, 0.80, 0.79]\n",
    "   * Algorithm C: [0.90, 0.88, 0.89, 0.86, 0.87]\n",
    "   \n",
    "   Perform a Kruskal-Wallis test to determine if there is a significant difference in the median accuracy scores between the algorithms.\n"
   ]
  },
  {
   "cell_type": "code",
   "execution_count": 12,
   "id": "61ec7a68-46e5-47b9-8899-37d831d2a7e5",
   "metadata": {},
   "outputs": [],
   "source": [
    "from scipy.stats import kruskal"
   ]
  },
  {
   "cell_type": "code",
   "execution_count": 14,
   "id": "5ec1dd04-e748-4a33-ae32-466c313e4ec5",
   "metadata": {},
   "outputs": [
    {
     "data": {
      "text/plain": [
       "KruskalResult(statistic=9.696947935368053, pvalue=0.007840333026249539)"
      ]
     },
     "execution_count": 14,
     "metadata": {},
     "output_type": "execute_result"
    }
   ],
   "source": [
    "A = [0.85, 0.80, 0.82, 0.87, 0.83]\n",
    "B = [0.78, 0.82, 0.84, 0.80, 0.79]\n",
    "C = [0.90, 0.88, 0.89, 0.86, 0.87]\n",
    "kruskal(A,B,C)"
   ]
  },
  {
   "cell_type": "markdown",
   "id": "54b2b1c3-c30e-4961-91d7-e308b4ab2c7c",
   "metadata": {},
   "source": [
    "A smaller p-value indicates stronger evidence against the null hypothesis. In this case, the p-value is 0.007840333026249539, which is less than the commonly used significance level of 0.05. Therefore, we would reject the null hypothesis and conclude that there are significant differences between the groups."
   ]
  },
  {
   "cell_type": "markdown",
   "id": "6aaec70d-0861-4829-b97d-779e03b17eb6",
   "metadata": {},
   "source": [
    "### 18. Scenario: A company wants to analyze the effect of price on sales. The data collected is as follows:\n",
    "  * Price (in dollars): [10, 15, 12, 8, 14]\n",
    "  *  Sales: [100, 80, 90, 110, 95]\n",
    "  *  Perform a simple linear regression to predict sales based on price.\n"
   ]
  },
  {
   "cell_type": "code",
   "execution_count": 34,
   "id": "9a88d53a-7de9-4bd1-9f77-59436df3113c",
   "metadata": {},
   "outputs": [],
   "source": [
    "from sklearn.model_selection import train_test_split\n",
    "X_train, X_test, Y_train, Y_test = train_test_split(X,y,test_size=0.33,random_state=42)"
   ]
  },
  {
   "cell_type": "code",
   "execution_count": 39,
   "id": "4f9eda49-553a-4d32-b353-b50ca4985348",
   "metadata": {},
   "outputs": [],
   "source": [
    "import pandas as pd\n",
    "df=pd.DataFrame({'X_train':X_train,'Y_train': Y_train})"
   ]
  },
  {
   "cell_type": "code",
   "execution_count": 41,
   "id": "e1b36d85-bde0-4591-bb33-425c33eab297",
   "metadata": {},
   "outputs": [],
   "source": [
    "df2=pd.DataFrame({'X_test':X_test,'y_test':y_test})"
   ]
  },
  {
   "cell_type": "code",
   "execution_count": 55,
   "id": "fe0f5aa6-14aa-4634-831a-5aea1341ac59",
   "metadata": {},
   "outputs": [],
   "source": [
    "from sklearn.preprocessing import StandardScaler\n",
    "scaler=StandardScaler()\n",
    "\n",
    "X_train = np.array(X_train)\n",
    "X_train = X_train.reshape(-1, 1)\n",
    "\n",
    "X_test = np.array(X_test)\n",
    "X_test = X_test.reshape(-1, 1)\n",
    "\n",
    "X_train_scaled = scaler.fit_transform(X_train)\n",
    "X_test_scaled = scaler.transform(X_test)"
   ]
  },
  {
   "cell_type": "code",
   "execution_count": 57,
   "id": "3437124a-4651-4f49-82a2-6d85ae628226",
   "metadata": {},
   "outputs": [],
   "source": [
    "from sklearn.linear_model import LinearRegression\n",
    "regressor=LinearRegression()"
   ]
  },
  {
   "cell_type": "code",
   "execution_count": 65,
   "id": "ab20c90b-1ca8-4984-87b8-2b9e8103ee0b",
   "metadata": {},
   "outputs": [
    {
     "data": {
      "text/html": [
       "<style>#sk-container-id-2 {color: black;background-color: white;}#sk-container-id-2 pre{padding: 0;}#sk-container-id-2 div.sk-toggleable {background-color: white;}#sk-container-id-2 label.sk-toggleable__label {cursor: pointer;display: block;width: 100%;margin-bottom: 0;padding: 0.3em;box-sizing: border-box;text-align: center;}#sk-container-id-2 label.sk-toggleable__label-arrow:before {content: \"▸\";float: left;margin-right: 0.25em;color: #696969;}#sk-container-id-2 label.sk-toggleable__label-arrow:hover:before {color: black;}#sk-container-id-2 div.sk-estimator:hover label.sk-toggleable__label-arrow:before {color: black;}#sk-container-id-2 div.sk-toggleable__content {max-height: 0;max-width: 0;overflow: hidden;text-align: left;background-color: #f0f8ff;}#sk-container-id-2 div.sk-toggleable__content pre {margin: 0.2em;color: black;border-radius: 0.25em;background-color: #f0f8ff;}#sk-container-id-2 input.sk-toggleable__control:checked~div.sk-toggleable__content {max-height: 200px;max-width: 100%;overflow: auto;}#sk-container-id-2 input.sk-toggleable__control:checked~label.sk-toggleable__label-arrow:before {content: \"▾\";}#sk-container-id-2 div.sk-estimator input.sk-toggleable__control:checked~label.sk-toggleable__label {background-color: #d4ebff;}#sk-container-id-2 div.sk-label input.sk-toggleable__control:checked~label.sk-toggleable__label {background-color: #d4ebff;}#sk-container-id-2 input.sk-hidden--visually {border: 0;clip: rect(1px 1px 1px 1px);clip: rect(1px, 1px, 1px, 1px);height: 1px;margin: -1px;overflow: hidden;padding: 0;position: absolute;width: 1px;}#sk-container-id-2 div.sk-estimator {font-family: monospace;background-color: #f0f8ff;border: 1px dotted black;border-radius: 0.25em;box-sizing: border-box;margin-bottom: 0.5em;}#sk-container-id-2 div.sk-estimator:hover {background-color: #d4ebff;}#sk-container-id-2 div.sk-parallel-item::after {content: \"\";width: 100%;border-bottom: 1px solid gray;flex-grow: 1;}#sk-container-id-2 div.sk-label:hover label.sk-toggleable__label {background-color: #d4ebff;}#sk-container-id-2 div.sk-serial::before {content: \"\";position: absolute;border-left: 1px solid gray;box-sizing: border-box;top: 0;bottom: 0;left: 50%;z-index: 0;}#sk-container-id-2 div.sk-serial {display: flex;flex-direction: column;align-items: center;background-color: white;padding-right: 0.2em;padding-left: 0.2em;position: relative;}#sk-container-id-2 div.sk-item {position: relative;z-index: 1;}#sk-container-id-2 div.sk-parallel {display: flex;align-items: stretch;justify-content: center;background-color: white;position: relative;}#sk-container-id-2 div.sk-item::before, #sk-container-id-2 div.sk-parallel-item::before {content: \"\";position: absolute;border-left: 1px solid gray;box-sizing: border-box;top: 0;bottom: 0;left: 50%;z-index: -1;}#sk-container-id-2 div.sk-parallel-item {display: flex;flex-direction: column;z-index: 1;position: relative;background-color: white;}#sk-container-id-2 div.sk-parallel-item:first-child::after {align-self: flex-end;width: 50%;}#sk-container-id-2 div.sk-parallel-item:last-child::after {align-self: flex-start;width: 50%;}#sk-container-id-2 div.sk-parallel-item:only-child::after {width: 0;}#sk-container-id-2 div.sk-dashed-wrapped {border: 1px dashed gray;margin: 0 0.4em 0.5em 0.4em;box-sizing: border-box;padding-bottom: 0.4em;background-color: white;}#sk-container-id-2 div.sk-label label {font-family: monospace;font-weight: bold;display: inline-block;line-height: 1.2em;}#sk-container-id-2 div.sk-label-container {text-align: center;}#sk-container-id-2 div.sk-container {/* jupyter's `normalize.less` sets `[hidden] { display: none; }` but bootstrap.min.css set `[hidden] { display: none !important; }` so we also need the `!important` here to be able to override the default hidden behavior on the sphinx rendered scikit-learn.org. See: https://github.com/scikit-learn/scikit-learn/issues/21755 */display: inline-block !important;position: relative;}#sk-container-id-2 div.sk-text-repr-fallback {display: none;}</style><div id=\"sk-container-id-2\" class=\"sk-top-container\"><div class=\"sk-text-repr-fallback\"><pre>LinearRegression()</pre><b>In a Jupyter environment, please rerun this cell to show the HTML representation or trust the notebook. <br />On GitHub, the HTML representation is unable to render, please try loading this page with nbviewer.org.</b></div><div class=\"sk-container\" hidden><div class=\"sk-item\"><div class=\"sk-estimator sk-toggleable\"><input class=\"sk-toggleable__control sk-hidden--visually\" id=\"sk-estimator-id-2\" type=\"checkbox\" checked><label for=\"sk-estimator-id-2\" class=\"sk-toggleable__label sk-toggleable__label-arrow\">LinearRegression</label><div class=\"sk-toggleable__content\"><pre>LinearRegression()</pre></div></div></div></div></div>"
      ],
      "text/plain": [
       "LinearRegression()"
      ]
     },
     "execution_count": 65,
     "metadata": {},
     "output_type": "execute_result"
    }
   ],
   "source": [
    "regressor.fit(X_train,y_train)"
   ]
  },
  {
   "cell_type": "code",
   "execution_count": 66,
   "id": "d7b30210-83bb-464e-a1bc-56139e88237c",
   "metadata": {},
   "outputs": [
    {
     "data": {
      "text/plain": [
       "[<matplotlib.lines.Line2D at 0x7fd3a429a950>]"
      ]
     },
     "execution_count": 66,
     "metadata": {},
     "output_type": "execute_result"
    },
    {
     "data": {
      "image/png": "[encoded data removed]",
      "text/plain": [
       "<Figure size 640x480 with 1 Axes>"
      ]
     },
     "metadata": {},
     "output_type": "display_data"
    }
   ],
   "source": [
    "plt.scatter(X_train,y_train)\n",
    "plt.plot(X_train,regressor.predict(X_train),'r')"
   ]
  },
  {
   "cell_type": "markdown",
   "id": "eb1027c6-7fbe-487b-91de-c75b1cf8410c",
   "metadata": {},
   "source": [
    "### 19. Scenario: A survey is conducted to measure the satisfaction levels of customers with a new product. The data collected is as follows:\n",
    "    [7, 8, 9, 6, 8, 7, 9, 7, 8, 7]\n",
    "Calculate the standard error of the mean satisfaction score.\n"
   ]
  },
  {
   "cell_type": "code",
   "execution_count": 67,
   "id": "45c904cc-ce70-40ee-932f-de12544c9164",
   "metadata": {},
   "outputs": [],
   "source": [
    "data=[7, 8, 9, 6, 8, 7, 9, 7, 8, 7]"
   ]
  },
  {
   "cell_type": "code",
   "execution_count": 68,
   "id": "fc456a3c-088b-4cd0-8ccd-1fb91ebf31aa",
   "metadata": {},
   "outputs": [
    {
     "name": "stdout",
     "output_type": "stream",
     "text": [
      "Standard Error: 0.30550504633038933\n"
     ]
    }
   ],
   "source": [
    "import statistics\n",
    "\n",
    "data = [7, 8, 9, 6, 8, 7, 9, 7, 8, 7]\n",
    "\n",
    "mean = statistics.mean(data)  # Calculate the mean\n",
    "differences = [x - mean for x in data]  # Calculate the differences between each data point and the mean\n",
    "\n",
    "standard_error = statistics.stdev(differences) / (len(data) ** 0.5)  # Calculate the standard error\n",
    "\n",
    "print(\"Standard Error:\", standard_error)\n"
   ]
  },
  {
   "cell_type": "markdown",
   "id": "de131391-592c-4673-848f-804082f8ca0b",
   "metadata": {},
   "source": [
    "### 20. Scenario: A company wants to analyze the relationship between advertising expenditure and sales. The data collected is as follows:\n",
    "\n",
    "* Advertising Expenditure (in thousands): [10, 15, 12, 8, 14]\n",
    "* Sales (in thousands): [25, 30, 28, 20, 26]\n",
    "\n",
    "    Perform a multiple regression analysis to predict sales based on advertising expenditure.\n"
   ]
  },
  {
   "cell_type": "code",
   "execution_count": 69,
   "id": "797f26ed-f835-4f5d-ab1c-c9086621c5ee",
   "metadata": {},
   "outputs": [
    {
     "name": "stdout",
     "output_type": "stream",
     "text": [
      "                            OLS Regression Results                            \n",
      "==============================================================================\n",
      "Dep. Variable:                  Sales   R-squared:                       0.767\n",
      "Model:                            OLS   Adj. R-squared:                  0.689\n",
      "Method:                 Least Squares   F-statistic:                     9.872\n",
      "Date:                Mon, 10 Jul 2023   Prob (F-statistic):             0.0516\n",
      "Time:                        19:37:45   Log-Likelihood:                -9.5288\n",
      "No. Observations:                   5   AIC:                             23.06\n",
      "Df Residuals:                       3   BIC:                             22.28\n",
      "Df Model:                           1                                         \n",
      "Covariance Type:            nonrobust                                         \n",
      "===============================================================================\n",
      "                  coef    std err          t      P>|t|      [0.025      0.975]\n",
      "-------------------------------------------------------------------------------\n",
      "const          12.2012      4.429      2.755      0.070      -1.893      26.296\n",
      "Advertising     1.1524      0.367      3.142      0.052      -0.015       2.320\n",
      "==============================================================================\n",
      "Omnibus:                          nan   Durbin-Watson:                   1.136\n",
      "Prob(Omnibus):                    nan   Jarque-Bera (JB):                0.546\n",
      "Skew:                          -0.267   Prob(JB):                        0.761\n",
      "Kurtosis:                       1.471   Cond. No.                         57.3\n",
      "==============================================================================\n",
      "\n",
      "Notes:\n",
      "[1] Standard Errors assume that the covariance matrix of the errors is correctly specified.\n"
     ]
    },
    {
     "name": "stderr",
     "output_type": "stream",
     "text": [
      "/opt/conda/lib/python3.10/site-packages/statsmodels/stats/stattools.py:74: ValueWarning: omni_normtest is not valid with less than 8 observations; 5 samples were given.\n",
      "  warn(\"omni_normtest is not valid with less than 8 observations; %i \"\n"
     ]
    }
   ],
   "source": [
    "import statsmodels.api as sm\n",
    "import pandas as pd\n",
    "\n",
    "data = pd.DataFrame({\n",
    "    'Advertising': [10, 15, 12, 8, 14],\n",
    "    'Sales': [25, 30, 28, 20, 26]\n",
    "})\n",
    "\n",
    "data = sm.add_constant(data)\n",
    "\n",
    "# Perform the multiple regression analysis\n",
    "model = sm.OLS(data['Sales'], data[['const', 'Advertising']])\n",
    "results = model.fit()\n",
    "\n",
    "print(results.summary())\n"
   ]
  },
  {
   "cell_type": "markdown",
   "id": "51881943-43c7-40cf-ad8b-f7f5424d58b1",
   "metadata": {},
   "source": [
    "## The End"
   ]
  }
 ],
 "metadata": {
  "kernelspec": {
   "display_name": "Python 3 (ipykernel)",
   "language": "python",
   "name": "python3"
  },
  "language_info": {
   "codemirror_mode": {
    "name": "ipython",
    "version": 3
   },
   "file_extension": ".py",
   "mimetype": "text/x-python",
   "name": "python",
   "nbconvert_exporter": "python",
   "pygments_lexer": "ipython3",
   "version": "3.10.8"
  }
 },
 "nbformat": 4,
 "nbformat_minor": 5
}
